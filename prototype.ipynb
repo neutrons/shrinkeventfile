{
 "cells": [
  {
   "cell_type": "code",
   "execution_count": 1,
   "metadata": {},
   "outputs": [],
   "source": [
    "import h5py\n",
    "import numpy as np\n",
    "import time"
   ]
  },
  {
   "cell_type": "code",
   "execution_count": 3,
   "metadata": {},
   "outputs": [],
   "source": [
    "cp CORELLI_78859.Test.h5 t1.h5"
   ]
  },
  {
   "cell_type": "code",
   "execution_count": 5,
   "metadata": {},
   "outputs": [],
   "source": [
    "h5test = h5py.File('t1.h5', 'r+')"
   ]
  },
  {
   "cell_type": "markdown",
   "metadata": {},
   "source": [
    "get bank10 to add neutrons"
   ]
  },
  {
   "cell_type": "code",
   "execution_count": 6,
   "metadata": {},
   "outputs": [],
   "source": [
    "bank10 = h5test['entry']['instrument']['bank10']"
   ]
  },
  {
   "cell_type": "code",
   "execution_count": 7,
   "metadata": {},
   "outputs": [],
   "source": [
    "event_id = bank10['event_id']\n",
    "event_index = bank10['event_index']\n",
    "event_time_offset = bank10['event_time_offset']\n",
    "event_time_zero = bank10['event_time_zero']\n",
    "total_counts = bank10['total_counts']"
   ]
  },
  {
   "cell_type": "code",
   "execution_count": 10,
   "metadata": {},
   "outputs": [],
   "source": [
    "total_counts[0] = 69715 + 10"
   ]
  },
  {
   "cell_type": "code",
   "execution_count": 11,
   "metadata": {},
   "outputs": [
    {
     "data": {
      "text/plain": [
       "(69715,)"
      ]
     },
     "execution_count": 11,
     "metadata": {},
     "output_type": "execute_result"
    }
   ],
   "source": [
    "event_id.shape"
   ]
  },
  {
   "cell_type": "code",
   "execution_count": 12,
   "metadata": {},
   "outputs": [
    {
     "data": {
      "text/plain": [
       "(3904,)"
      ]
     },
     "execution_count": 12,
     "metadata": {},
     "output_type": "execute_result"
    }
   ],
   "source": [
    "event_index.shape"
   ]
  },
  {
   "cell_type": "code",
   "execution_count": 13,
   "metadata": {},
   "outputs": [
    {
     "data": {
      "text/plain": [
       "(69715,)"
      ]
     },
     "execution_count": 13,
     "metadata": {},
     "output_type": "execute_result"
    }
   ],
   "source": [
    "event_time_offset.shape"
   ]
  },
  {
   "cell_type": "code",
   "execution_count": 15,
   "metadata": {},
   "outputs": [
    {
     "data": {
      "text/plain": [
       "(3904,)"
      ]
     },
     "execution_count": 15,
     "metadata": {},
     "output_type": "execute_result"
    }
   ],
   "source": [
    "# pulse time start\n",
    "event_time_zero.shape"
   ]
  },
  {
   "cell_type": "code",
   "execution_count": 17,
   "metadata": {},
   "outputs": [],
   "source": [
    "event_id.resize((69715+10,))"
   ]
  },
  {
   "cell_type": "code",
   "execution_count": 18,
   "metadata": {},
   "outputs": [],
   "source": [
    "event_time_offset.resize((69715+10,))"
   ]
  },
  {
   "cell_type": "code",
   "execution_count": 19,
   "metadata": {},
   "outputs": [],
   "source": [
    "for index in range(69715, 69715+10):\n",
    "    event_id[index] = event_id[index-100]"
   ]
  },
  {
   "cell_type": "code",
   "execution_count": 20,
   "metadata": {},
   "outputs": [],
   "source": [
    "for index in range(69715, 69715+10):\n",
    "    event_time_offset[index] = event_time_offset[index-1] + 100."
   ]
  },
  {
   "cell_type": "code",
   "execution_count": 21,
   "metadata": {},
   "outputs": [],
   "source": [
    "h5test.close()"
   ]
  },
  {
   "cell_type": "markdown",
   "metadata": {},
   "source": [
    "Make each bank 0 or 10 more events"
   ]
  },
  {
   "cell_type": "code",
   "execution_count": 54,
   "metadata": {},
   "outputs": [],
   "source": [
    "cp CORELLI_78859.Test.h5 t2.h5"
   ]
  },
  {
   "cell_type": "code",
   "execution_count": 55,
   "metadata": {},
   "outputs": [],
   "source": [
    "h5test = h5py.File('t2.h5', 'r+')"
   ]
  },
  {
   "cell_type": "code",
   "execution_count": 56,
   "metadata": {},
   "outputs": [
    {
     "name": "stdout",
     "output_type": "stream",
     "text": [
      "[u'bank1', u'bank10', u'bank11', u'bank12', u'bank13', u'bank14', u'bank15', u'bank16', u'bank17', u'bank18', u'bank19', u'bank2', u'bank20', u'bank21', u'bank22', u'bank23', u'bank24', u'bank25', u'bank26', u'bank27', u'bank28', u'bank29', u'bank3', u'bank30', u'bank31', u'bank32', u'bank33', u'bank34', u'bank35', u'bank36', u'bank37', u'bank38', u'bank39', u'bank4', u'bank40', u'bank41', u'bank42', u'bank43', u'bank44', u'bank45', u'bank46', u'bank47', u'bank48', u'bank49', u'bank5', u'bank50', u'bank51', u'bank52', u'bank53', u'bank54', u'bank55', u'bank56', u'bank57', u'bank58', u'bank59', u'bank6', u'bank60', u'bank61', u'bank62', u'bank63', u'bank64', u'bank65', u'bank66', u'bank67', u'bank68', u'bank69', u'bank7', u'bank70', u'bank71', u'bank72', u'bank73', u'bank74', u'bank75', u'bank76', u'bank77', u'bank78', u'bank79', u'bank8', u'bank80', u'bank81', u'bank82', u'bank83', u'bank84', u'bank85', u'bank86', u'bank87', u'bank88', u'bank89', u'bank9', u'bank90', u'bank91', u'bank_error', u'bank_unmapped', u'beamline', u'chopper1', u'chopper2', u'chopper3', u'chopper4', u'instrument_xml', u'name', u'target_station_number']\n"
     ]
    }
   ],
   "source": [
    "entry_root = h5test['entry']\n",
    "instrument_root = entry_root['instrument']\n",
    "print instrument_root.keys()"
   ]
  },
  {
   "cell_type": "code",
   "execution_count": 57,
   "metadata": {},
   "outputs": [
    {
     "name": "stdout",
     "output_type": "stream",
     "text": [
      "Added 910 events\n"
     ]
    }
   ],
   "source": [
    "num_added_events = 0\n",
    "for bank_name in instrument_root:\n",
    "    if bank_name.count('bank') == 0:\n",
    "        continue\n",
    "    bank_number = str(bank_name).split('bank')[1]\n",
    "    if bank_number.isdigit() is False:\n",
    "        continue\n",
    "    bank_now = instrument_root[bank_name]\n",
    "    event_id = bank_now['event_id']\n",
    "    event_index = bank_now['event_index']  \n",
    "    event_time_offset = bank_now['event_time_offset']\n",
    "    event_time_zero = bank_now['event_time_zero']\n",
    "    total_counts = bank_now['total_counts']\n",
    "    if total_counts < 10:\n",
    "        print ('{} is skipped'.format(bank_name))\n",
    "        continue\n",
    "    \n",
    "    # add events\n",
    "    num_events_i = event_id.shape[0]\n",
    "    event_id.resize((num_events_i+10,))\n",
    "    event_time_offset.resize((num_events_i+10,))\n",
    "    for index in range(num_events_i, num_events_i+10):\n",
    "        event_id[index] = event_id[index-10]\n",
    "    for index in range(num_events_i, num_events_i+10):\n",
    "        event_time_offset[index] = event_time_offset[index-1] + 100.\n",
    "    total_counts[0] = num_events_i + 10\n",
    "    \n",
    "    num_added_events += 10\n",
    "# END-FOR\n",
    "\n",
    "print ('Added {} events'.format(num_added_events))"
   ]
  },
  {
   "cell_type": "code",
   "execution_count": 58,
   "metadata": {},
   "outputs": [],
   "source": [
    " h5test.close()"
   ]
  },
  {
   "cell_type": "markdown",
   "metadata": {},
   "source": [
    "Double the events"
   ]
  },
  {
   "cell_type": "code",
   "execution_count": 63,
   "metadata": {},
   "outputs": [],
   "source": [
    "cp CORELLI_78859.Test.h5 tdouble.h5"
   ]
  },
  {
   "cell_type": "code",
   "execution_count": 64,
   "metadata": {},
   "outputs": [],
   "source": [
    "h5test = h5py.File('tdouble.h5', 'r+')"
   ]
  },
  {
   "cell_type": "code",
   "execution_count": 65,
   "metadata": {},
   "outputs": [],
   "source": [
    "entry_root = h5test['entry']\n",
    "instrument_root = entry_root['instrument']"
   ]
  },
  {
   "cell_type": "code",
   "execution_count": 66,
   "metadata": {},
   "outputs": [
    {
     "name": "stdout",
     "output_type": "stream",
     "text": [
      "1538703123.61\n",
      "bank1 is skipped.  Total counts = 0\n",
      "bank10 is about to resize from 8923520\n",
      "Number of events = 8923520\n",
      "Using time: 0.266700983047.\n",
      "bank11 is about to resize from 66349\n",
      "Number of events = 66349\n",
      "Using time: 0.27455496788.\n",
      "bank12 is about to resize from 67251\n",
      "Number of events = 67251\n",
      "Using time: 0.28033208847.\n",
      "bank13 is about to resize from 63735\n",
      "Number of events = 63735\n",
      "Using time: 0.286100149155.\n",
      "bank14 is about to resize from 58522\n",
      "Number of events = 58522\n",
      "Using time: 0.291715145111.\n",
      "bank15 is about to resize from 56464\n",
      "Number of events = 56464\n",
      "Using time: 0.297649145126.\n",
      "bank16 is about to resize from 55561\n",
      "Number of events = 55561\n",
      "Using time: 0.303199052811.\n",
      "bank17 is about to resize from 68193\n",
      "Number of events = 68193\n",
      "Using time: 0.308959007263.\n",
      "bank18 is about to resize from 65071\n",
      "Number of events = 65071\n",
      "Using time: 0.314838171005.\n",
      "bank19 is about to resize from 51854\n",
      "Number of events = 51854\n",
      "Using time: 0.320064067841.\n",
      "bank2 is skipped.  Total counts = 0\n",
      "bank20 is about to resize from 48664\n",
      "Number of events = 48664\n",
      "Using time: 0.326990127563.\n",
      "bank21 is about to resize from 52214\n",
      "Number of events = 52214\n",
      "Using time: 0.332247018814.\n",
      "bank22 is about to resize from 34838\n",
      "Number of events = 34838\n",
      "Using time: 0.337769031525.\n",
      "bank23 is about to resize from 151096\n",
      "Number of events = 151096\n",
      "Using time: 0.343070030212.\n",
      "bank24 is about to resize from 48790\n",
      "Number of events = 48790\n",
      "Using time: 0.350161075592.\n",
      "bank25 is about to resize from 72970\n",
      "Number of events = 72970\n",
      "Using time: 0.355316162109.\n",
      "bank26 is about to resize from 47671\n",
      "Number of events = 47671\n",
      "Using time: 0.360259056091.\n",
      "bank27 is about to resize from 68217\n",
      "Number of events = 68217\n",
      "Using time: 0.365617036819.\n",
      "bank28 is about to resize from 40674\n",
      "Number of events = 40674\n",
      "Using time: 0.370872974396.\n",
      "bank29 is skipped.  Total counts = 0\n",
      "bank3 is skipped.  Total counts = 0\n",
      "bank30 is skipped.  Total counts = 0\n",
      "bank31 is about to resize from 70733\n",
      "Number of events = 70733\n",
      "Using time: 0.381062984467.\n",
      "bank32 is about to resize from 60165\n",
      "Number of events = 60165\n",
      "Using time: 0.386619091034.\n",
      "bank33 is about to resize from 62905\n",
      "Number of events = 62905\n",
      "Using time: 0.391846179962.\n",
      "bank34 is about to resize from 64555\n",
      "Number of events = 64555\n",
      "Using time: 0.397449016571.\n",
      "bank35 is about to resize from 79666\n",
      "Number of events = 79666\n",
      "Using time: 0.403086185455.\n",
      "bank36 is about to resize from 69521\n",
      "Number of events = 69521\n",
      "Using time: 0.40943312645.\n",
      "bank37 is about to resize from 64232\n",
      "Number of events = 64232\n",
      "Using time: 0.414932012558.\n",
      "bank38 is about to resize from 64071\n",
      "Number of events = 64071\n",
      "Using time: 0.420543193817.\n",
      "bank39 is about to resize from 66294\n",
      "Number of events = 66294\n",
      "Using time: 0.425940990448.\n",
      "bank4 is skipped.  Total counts = 0\n",
      "bank40 is about to resize from 79645\n",
      "Number of events = 79645\n",
      "Using time: 0.433277130127.\n",
      "bank41 is about to resize from 64167\n",
      "Number of events = 64167\n",
      "Using time: 0.439321994781.\n",
      "bank42 is about to resize from 65361\n",
      "Number of events = 65361\n",
      "Using time: 0.44509100914.\n",
      "bank43 is about to resize from 78627\n",
      "Number of events = 78627\n",
      "Using time: 0.450664997101.\n",
      "bank44 is about to resize from 93822\n",
      "Number of events = 93822\n",
      "Using time: 0.459716081619.\n",
      "bank45 is about to resize from 58174\n",
      "Number of events = 58174\n",
      "Using time: 0.468691110611.\n",
      "bank46 is about to resize from 70993\n",
      "Number of events = 70993\n",
      "Using time: 0.476238965988.\n",
      "bank47 is about to resize from 55742\n",
      "Number of events = 55742\n",
      "Using time: 0.48260307312.\n",
      "bank48 is about to resize from 75912\n",
      "Number of events = 75912\n",
      "Using time: 0.489003181458.\n",
      "bank49 is about to resize from 128880\n",
      "Number of events = 128880\n",
      "Using time: 0.497042179108.\n",
      "bank5 is skipped.  Total counts = 0\n",
      "bank50 is about to resize from 43367\n",
      "Number of events = 43367\n",
      "Using time: 0.505254030228.\n",
      "bank51 is about to resize from 53560\n",
      "Number of events = 53560\n",
      "Using time: 0.510647058487.\n",
      "bank52 is about to resize from 49664\n",
      "Number of events = 49664\n",
      "Using time: 0.516201019287.\n",
      "bank53 is about to resize from 48057\n",
      "Number of events = 48057\n",
      "Using time: 0.521569013596.\n",
      "bank54 is about to resize from 42146\n",
      "Number of events = 42146\n",
      "Using time: 0.526470184326.\n",
      "bank55 is about to resize from 43167\n",
      "Number of events = 43167\n",
      "Using time: 0.531120061874.\n",
      "bank56 is about to resize from 97291\n",
      "Number of events = 97291\n",
      "Using time: 0.536664962769.\n",
      "bank57 is about to resize from 26155\n",
      "Number of events = 26155\n",
      "Using time: 0.542705059052.\n",
      "bank58 is about to resize from 37588\n",
      "Number of events = 37588\n",
      "Using time: 0.547870159149.\n",
      "bank59 is about to resize from 38241\n",
      "Number of events = 38241\n",
      "Using time: 0.552976131439.\n",
      "bank6 is skipped.  Total counts = 0\n",
      "bank60 is about to resize from 26000\n",
      "Number of events = 26000\n",
      "Using time: 0.559427976608.\n",
      "bank61 is about to resize from 27916\n",
      "Number of events = 27916\n",
      "Using time: 0.564117193222.\n",
      "bank62 is skipped.  Total counts = 0\n",
      "bank63 is skipped.  Total counts = 0\n",
      "bank64 is skipped.  Total counts = 0\n",
      "bank65 is skipped.  Total counts = 0\n",
      "bank66 is skipped.  Total counts = 0\n",
      "bank67 is skipped.  Total counts = 0\n",
      "bank68 is skipped.  Total counts = 0\n",
      "bank69 is about to resize from 66510\n",
      "Number of events = 66510\n",
      "Using time: 0.579934120178.\n",
      "bank7 is about to resize from 80829\n",
      "Number of events = 80829\n",
      "Using time: 0.585745096207.\n",
      "bank70 is about to resize from 70214\n",
      "Number of events = 70214\n",
      "Using time: 0.591829061508.\n",
      "bank71 is skipped.  Total counts = 0\n",
      "bank72 is skipped.  Total counts = 0\n",
      "bank73 is about to resize from 69752\n",
      "Number of events = 69752\n",
      "Using time: 0.600337982178.\n",
      "bank74 is about to resize from 68140\n",
      "Number of events = 68140\n",
      "Using time: 0.606101989746.\n",
      "bank75 is about to resize from 79070\n",
      "Number of events = 79070\n",
      "Using time: 0.611775159836.\n",
      "bank76 is about to resize from 55473\n",
      "Number of events = 55473\n",
      "Using time: 0.617537975311.\n",
      "bank77 is about to resize from 50230\n",
      "Number of events = 50230\n",
      "Using time: 0.622776031494.\n",
      "bank78 is about to resize from 72742\n",
      "Number of events = 72742\n",
      "Using time: 0.628072023392.\n",
      "bank79 is about to resize from 42271\n",
      "Number of events = 42271\n",
      "Using time: 0.6329870224.\n",
      "bank8 is about to resize from 71823\n",
      "Number of events = 71823\n",
      "Using time: 0.638008117676.\n",
      "bank80 is about to resize from 51071\n",
      "Number of events = 51071\n",
      "Using time: 0.64332318306.\n",
      "bank81 is about to resize from 67503\n",
      "Number of events = 67503\n",
      "Using time: 0.648828983307.\n",
      "bank82 is about to resize from 68337\n",
      "Number of events = 68337\n",
      "Using time: 0.654741048813.\n",
      "bank83 is about to resize from 119920\n",
      "Number of events = 119920\n",
      "Using time: 0.661203145981.\n",
      "bank84 is about to resize from 61061\n",
      "Number of events = 61061\n",
      "Using time: 0.667414188385.\n",
      "bank85 is about to resize from 51034\n",
      "Number of events = 51034\n",
      "Using time: 0.67264008522.\n",
      "bank86 is about to resize from 33568\n",
      "Number of events = 33568\n",
      "Using time: 0.677847146988.\n",
      "bank87 is about to resize from 117935\n",
      "Number of events = 117935\n",
      "Using time: 0.684122085571.\n",
      "bank88 is about to resize from 37331\n",
      "Number of events = 37331\n",
      "Using time: 0.689918041229.\n",
      "bank89 is about to resize from 36544\n",
      "Number of events = 36544\n",
      "Using time: 0.6944231987.\n",
      "bank9 is about to resize from 83801\n",
      "Number of events = 83801\n",
      "Using time: 0.699803113937.\n",
      "bank90 is about to resize from 45484\n",
      "Number of events = 45484\n",
      "Using time: 0.705440044403.\n",
      "bank91 is skipped.  Total counts = 0\n",
      "Added 13448914 events\n"
     ]
    }
   ],
   "source": [
    "# double the events\n",
    "t0 = time.time()\n",
    "print (t0)\n",
    "\n",
    "num_added_events = 0\n",
    "for bank_name in instrument_root:\n",
    "    if bank_name.count('bank') == 0:\n",
    "        continue\n",
    "    bank_number = str(bank_name).split('bank')[1]\n",
    "    if bank_number.isdigit() is False:\n",
    "        continue\n",
    "    bank_now = instrument_root[bank_name]\n",
    "    event_id = bank_now['event_id']\n",
    "    event_index = bank_now['event_index']  \n",
    "    event_time_offset = bank_now['event_time_offset']\n",
    "    event_time_zero = bank_now['event_time_zero']\n",
    "    total_counts = bank_now['total_counts']\n",
    "    if total_counts[0] < 10:\n",
    "        print ('{} is skipped.  Total counts = {}'.format(bank_name, total_counts[0]))\n",
    "        continue\n",
    "    else:\n",
    "        print ('{} is about to resize from {}'.format(bank_name, event_id.shape[0]))\n",
    "    \n",
    "    # add events\n",
    "    num_events_i = event_id.shape[0]\n",
    "    print ('Number of events = {}'.format(num_events_i))\n",
    "    \n",
    "    event_id.resize((num_events_i*2,))\n",
    "    event_time_offset.resize((num_events_i*2,))\n",
    "\n",
    "    event_id[num_events_i:2*num_events_i] = event_id[0:num_events_i]\n",
    "    event_time_offset[num_events_i:2*num_events_i] = event_time_offset[0:num_events_i] + 100.\n",
    "    event_index[0:num_events_i] = event_index[0:num_events_i] * 2\n",
    "    \n",
    "    \"\"\"\n",
    "    for index in range(num_events_i):\n",
    "        # num_events_x += event_id[index]\n",
    "        event_id[index+num_events_i] = event_id[index+num_events_i-10]\n",
    "        event_time_offset[index+num_events_i] = event_time_offset[index+num_events_i-10] + 100.\n",
    "\n",
    "    for index in range(event_index.shape[0]):\n",
    "        event_index[index] = 2*event_index[index]\n",
    "    \"\"\"\n",
    "    num_added_events += num_events_i\n",
    "    total_counts[0] = 2*num_events_i\n",
    "    \n",
    "    t1 = time.time()\n",
    "    print ('Using time: {}.'.format(t1-t0))\n",
    "    \n",
    "# END-FOR\n",
    "\n",
    "print ('Added {} events'.format(num_added_events))\n",
    "\n",
    "# print (time.time())\n",
    "\n",
    "h5test.close()"
   ]
  },
  {
   "cell_type": "markdown",
   "metadata": {},
   "source": [
    " 1538694414.55\n",
    " bank1 is skipped.  Total counts = 0\n",
    " bank10 is about to resize\n",
    " bank10\n",
    " 139430\n",
    " 116.962486029\n",
    " Added 139430 events\n",
    " 1538694531.51"
   ]
  },
  {
   "cell_type": "code",
   "execution_count": 60,
   "metadata": {},
   "outputs": [
    {
     "data": {
      "text/plain": [
       "1538685811.499866"
      ]
     },
     "execution_count": 60,
     "metadata": {},
     "output_type": "execute_result"
    }
   ],
   "source": [
    "time.time()"
   ]
  },
  {
   "cell_type": "code",
   "execution_count": 53,
   "metadata": {},
   "outputs": [],
   "source": [
    "h5test.close()"
   ]
  },
  {
   "cell_type": "code",
   "execution_count": 45,
   "metadata": {},
   "outputs": [
    {
     "name": "stdout",
     "output_type": "stream",
     "text": [
      "original size: (75548,)\n",
      "Final size: (151096,)\n"
     ]
    }
   ],
   "source": [
    "# prototype\n",
    "bank23 = instrument_root['bank23']\n",
    "print ('original size: {}'.format(bank23['event_id'].shape))\n",
    "event_id = bank23['event_id']\n",
    "orig_size = event_id.shape[0]\n",
    "event_id.resize((orig_size*2,))\n",
    "event_id[orig_size:orig_size*2] = event_id[0:orig_size] + 10\n",
    "print ('Final size: {}'.format(bank23['event_id'].shape))"
   ]
  },
  {
   "cell_type": "code",
   "execution_count": 51,
   "metadata": {},
   "outputs": [
    {
     "ename": "ValueError",
     "evalue": "Not a dataset (Not a dataset)",
     "output_type": "error",
     "traceback": [
      "\u001b[0;31m---------------------------------------------------------------------------\u001b[0m",
      "\u001b[0;31mValueError\u001b[0m                                Traceback (most recent call last)",
      "\u001b[0;32m<ipython-input-51-64316327a502>\u001b[0m in \u001b[0;36m<module>\u001b[0;34m()\u001b[0m\n\u001b[0;32m----> 1\u001b[0;31m \u001b[0mevent_id\u001b[0m\u001b[0;34m.\u001b[0m\u001b[0mshape\u001b[0m\u001b[0;34m\u001b[0m\u001b[0m\n\u001b[0m\u001b[1;32m      2\u001b[0m \u001b[0mevent_id\u001b[0m\u001b[0;34m[\u001b[0m\u001b[0;36m0\u001b[0m\u001b[0;34m]\u001b[0m\u001b[0;34m\u001b[0m\u001b[0m\n",
      "\u001b[0;32m/usr/lib64/python2.7/site-packages/h5py/_hl/dataset.pyc\u001b[0m in \u001b[0;36mshape\u001b[0;34m(self)\u001b[0m\n\u001b[1;32m    157\u001b[0m     \u001b[0;32mdef\u001b[0m \u001b[0mshape\u001b[0m\u001b[0;34m(\u001b[0m\u001b[0mself\u001b[0m\u001b[0;34m)\u001b[0m\u001b[0;34m:\u001b[0m\u001b[0;34m\u001b[0m\u001b[0m\n\u001b[1;32m    158\u001b[0m         \u001b[0;34m\"\"\"Numpy-style shape tuple giving dataset dimensions\"\"\"\u001b[0m\u001b[0;34m\u001b[0m\u001b[0m\n\u001b[0;32m--> 159\u001b[0;31m         \u001b[0;32mreturn\u001b[0m \u001b[0mself\u001b[0m\u001b[0;34m.\u001b[0m\u001b[0mid\u001b[0m\u001b[0;34m.\u001b[0m\u001b[0mshape\u001b[0m\u001b[0;34m\u001b[0m\u001b[0m\n\u001b[0m\u001b[1;32m    160\u001b[0m     \u001b[0;34m@\u001b[0m\u001b[0mshape\u001b[0m\u001b[0;34m.\u001b[0m\u001b[0msetter\u001b[0m\u001b[0;34m\u001b[0m\u001b[0m\n\u001b[1;32m    161\u001b[0m     \u001b[0;32mdef\u001b[0m \u001b[0mshape\u001b[0m\u001b[0;34m(\u001b[0m\u001b[0mself\u001b[0m\u001b[0;34m,\u001b[0m \u001b[0mshape\u001b[0m\u001b[0;34m)\u001b[0m\u001b[0;34m:\u001b[0m\u001b[0;34m\u001b[0m\u001b[0m\n",
      "\u001b[0;32mh5d.pyx\u001b[0m in \u001b[0;36mh5py.h5d.DatasetID.shape.__get__ (h5py/h5d.c:2064)\u001b[0;34m()\u001b[0m\n",
      "\u001b[0;32mh5d.pyx\u001b[0m in \u001b[0;36mh5py.h5d.DatasetID.get_space (h5py/h5d.c:3495)\u001b[0;34m()\u001b[0m\n",
      "\u001b[0;31mValueError\u001b[0m: Not a dataset (Not a dataset)"
     ]
    }
   ],
   "source": [
    "event_id.shape\n",
    "event_id[0]"
   ]
  }
 ],
 "metadata": {
  "kernelspec": {
   "display_name": "Python 2",
   "language": "python",
   "name": "python2"
  },
  "language_info": {
   "codemirror_mode": {
    "name": "ipython",
    "version": 2
   },
   "file_extension": ".py",
   "mimetype": "text/x-python",
   "name": "python",
   "nbconvert_exporter": "python",
   "pygments_lexer": "ipython2",
   "version": "2.7.5"
  }
 },
 "nbformat": 4,
 "nbformat_minor": 1
}
