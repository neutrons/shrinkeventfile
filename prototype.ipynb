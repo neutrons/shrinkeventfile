{
 "metadata": {
  "name": "",
  "signature": "sha256:26d06b6cd91d38fbadfdcb5e7f773db35492794defdfa353eb9afdf6797b39bb"
 },
 "nbformat": 3,
 "nbformat_minor": 0,
 "worksheets": [
  {
   "cells": [
    {
     "cell_type": "code",
     "collapsed": false,
     "input": [
      "import h5py\n",
      "import numpy as np"
     ],
     "language": "python",
     "metadata": {},
     "outputs": [],
     "prompt_number": 1
    },
    {
     "cell_type": "code",
     "collapsed": false,
     "input": [
      "cp CORELLI_78859.Test.h5 t1.h5"
     ],
     "language": "python",
     "metadata": {},
     "outputs": [],
     "prompt_number": 3
    },
    {
     "cell_type": "code",
     "collapsed": false,
     "input": [
      "h5test = h5py.File('t1.h5', 'r+')"
     ],
     "language": "python",
     "metadata": {},
     "outputs": [],
     "prompt_number": 5
    },
    {
     "cell_type": "markdown",
     "metadata": {},
     "source": [
      "get bank10 to add neutrons"
     ]
    },
    {
     "cell_type": "code",
     "collapsed": false,
     "input": [
      "bank10 = h5test['entry']['instrument']['bank10']"
     ],
     "language": "python",
     "metadata": {},
     "outputs": [],
     "prompt_number": 6
    },
    {
     "cell_type": "code",
     "collapsed": false,
     "input": [
      "event_id = bank10['event_id']\n",
      "event_index = bank10['event_index']\n",
      "event_time_offset = bank10['event_time_offset']\n",
      "event_time_zero = bank10['event_time_zero']\n",
      "total_counts = bank10['total_counts']"
     ],
     "language": "python",
     "metadata": {},
     "outputs": [],
     "prompt_number": 7
    },
    {
     "cell_type": "code",
     "collapsed": false,
     "input": [
      "total_counts[0] = 69715 + 10"
     ],
     "language": "python",
     "metadata": {},
     "outputs": [],
     "prompt_number": 10
    },
    {
     "cell_type": "code",
     "collapsed": false,
     "input": [
      "event_id.shape"
     ],
     "language": "python",
     "metadata": {},
     "outputs": [
      {
       "metadata": {},
       "output_type": "pyout",
       "prompt_number": 11,
       "text": [
        "(69715,)"
       ]
      }
     ],
     "prompt_number": 11
    },
    {
     "cell_type": "code",
     "collapsed": false,
     "input": [
      "event_index.shape"
     ],
     "language": "python",
     "metadata": {},
     "outputs": [
      {
       "metadata": {},
       "output_type": "pyout",
       "prompt_number": 12,
       "text": [
        "(3904,)"
       ]
      }
     ],
     "prompt_number": 12
    },
    {
     "cell_type": "code",
     "collapsed": false,
     "input": [
      "event_time_offset.shape"
     ],
     "language": "python",
     "metadata": {},
     "outputs": [
      {
       "metadata": {},
       "output_type": "pyout",
       "prompt_number": 13,
       "text": [
        "(69715,)"
       ]
      }
     ],
     "prompt_number": 13
    },
    {
     "cell_type": "code",
     "collapsed": false,
     "input": [
      "# pulse time start\n",
      "event_time_zero.shape"
     ],
     "language": "python",
     "metadata": {},
     "outputs": [
      {
       "metadata": {},
       "output_type": "pyout",
       "prompt_number": 15,
       "text": [
        "(3904,)"
       ]
      }
     ],
     "prompt_number": 15
    },
    {
     "cell_type": "code",
     "collapsed": false,
     "input": [
      "event_id.resize((69715+10,))"
     ],
     "language": "python",
     "metadata": {},
     "outputs": [],
     "prompt_number": 17
    },
    {
     "cell_type": "code",
     "collapsed": false,
     "input": [
      "event_time_offset.resize((69715+10,))"
     ],
     "language": "python",
     "metadata": {},
     "outputs": [],
     "prompt_number": 18
    },
    {
     "cell_type": "code",
     "collapsed": false,
     "input": [
      "for index in range(69715, 69715+10):\n",
      "    event_id[index] = event_id[index-100]"
     ],
     "language": "python",
     "metadata": {},
     "outputs": [],
     "prompt_number": 19
    },
    {
     "cell_type": "code",
     "collapsed": false,
     "input": [
      "for index in range(69715, 69715+10):\n",
      "    event_time_offset[index] = event_time_offset[index-1] + 100."
     ],
     "language": "python",
     "metadata": {},
     "outputs": [],
     "prompt_number": 20
    },
    {
     "cell_type": "code",
     "collapsed": false,
     "input": [
      "h5test.close()"
     ],
     "language": "python",
     "metadata": {},
     "outputs": [],
     "prompt_number": 21
    },
    {
     "cell_type": "markdown",
     "metadata": {},
     "source": [
      "Make each bank 0 or 10 more events"
     ]
    },
    {
     "cell_type": "code",
     "collapsed": false,
     "input": [
      "cp CORELLI_78859.Test.h5 t2.h5"
     ],
     "language": "python",
     "metadata": {},
     "outputs": [],
     "prompt_number": 22
    },
    {
     "cell_type": "code",
     "collapsed": false,
     "input": [
      "h5test = h5py.File('t2.h5', 'r+')"
     ],
     "language": "python",
     "metadata": {},
     "outputs": [],
     "prompt_number": 23
    },
    {
     "cell_type": "code",
     "collapsed": false,
     "input": [
      "entry_root = h5test['entry']\n",
      "instrument_root = entry_root['instrument']\n",
      "print instrument_root.keys()"
     ],
     "language": "python",
     "metadata": {},
     "outputs": [
      {
       "output_type": "stream",
       "stream": "stdout",
       "text": [
        "[u'bank1', u'bank10', u'bank11', u'bank12', u'bank13', u'bank14', u'bank15', u'bank16', u'bank17', u'bank18', u'bank19', u'bank2', u'bank20', u'bank21', u'bank22', u'bank23', u'bank24', u'bank25', u'bank26', u'bank27', u'bank28', u'bank29', u'bank3', u'bank30', u'bank31', u'bank32', u'bank33', u'bank34', u'bank35', u'bank36', u'bank37', u'bank38', u'bank39', u'bank4', u'bank40', u'bank41', u'bank42', u'bank43', u'bank44', u'bank45', u'bank46', u'bank47', u'bank48', u'bank49', u'bank5', u'bank50', u'bank51', u'bank52', u'bank53', u'bank54', u'bank55', u'bank56', u'bank57', u'bank58', u'bank59', u'bank6', u'bank60', u'bank61', u'bank62', u'bank63', u'bank64', u'bank65', u'bank66', u'bank67', u'bank68', u'bank69', u'bank7', u'bank70', u'bank71', u'bank72', u'bank73', u'bank74', u'bank75', u'bank76', u'bank77', u'bank78', u'bank79', u'bank8', u'bank80', u'bank81', u'bank82', u'bank83', u'bank84', u'bank85', u'bank86', u'bank87', u'bank88', u'bank89', u'bank9', u'bank90', u'bank91', u'bank_error', u'bank_unmapped', u'beamline', u'chopper1', u'chopper2', u'chopper3', u'chopper4', u'instrument_xml', u'name', u'target_station_number']\n"
       ]
      }
     ],
     "prompt_number": 25
    },
    {
     "cell_type": "code",
     "collapsed": false,
     "input": [
      "num_added_events = 0\n",
      "for bank_name in instrument_root:\n",
      "    if bank_name.count('bank') == 0:\n",
      "        continue\n",
      "    bank_number = str(bank_name).split('bank')[1]\n",
      "    if bank_number.isdigit() is False:\n",
      "        continue\n",
      "    bank_now = instrument_root[bank_name]\n",
      "    event_id = bank_now['event_id']\n",
      "    event_index = bank_now['event_index']  \n",
      "    event_time_offset = bank_now['event_time_offset']\n",
      "    event_time_zero = bank_now['event_time_zero']\n",
      "    total_counts = bank_now['total_counts']\n",
      "    if total_counts < 10:\n",
      "        print ('{} is skipped'.format(bank_name))\n",
      "        continue\n",
      "    \n",
      "    # add events\n",
      "    num_events_i = event_id.shape[0]\n",
      "    event_id.resize((num_events_i+10,))\n",
      "    event_time_offset.resize((num_events_i+10,))\n",
      "    for index in range(num_events_i, num_events_i+10):\n",
      "        event_id[index] = event_id[index-10]\n",
      "    for index in range(num_events_i, num_events_i+10):\n",
      "        event_time_offset[index] = event_time_offset[index-1] + 100.\n",
      "    total_counts[0] = num_events_i + 10\n",
      "    \n",
      "    num_added_events += 10\n",
      "# END-FOR\n",
      "\n",
      "print ('Added {} events'.format(num_added_events))"
     ],
     "language": "python",
     "metadata": {},
     "outputs": [
      {
       "output_type": "stream",
       "stream": "stdout",
       "text": [
        "Added 910 events\n"
       ]
      }
     ],
     "prompt_number": 35
    },
    {
     "cell_type": "code",
     "collapsed": false,
     "input": [
      " h5test.close()"
     ],
     "language": "python",
     "metadata": {},
     "outputs": [],
     "prompt_number": 36
    },
    {
     "cell_type": "markdown",
     "metadata": {},
     "source": [
      "Double the events"
     ]
    },
    {
     "cell_type": "code",
     "collapsed": false,
     "input": [
      "cp CORELLI_78859.Test.h5 tdouble.h5"
     ],
     "language": "python",
     "metadata": {},
     "outputs": [],
     "prompt_number": 50
    },
    {
     "cell_type": "code",
     "collapsed": false,
     "input": [
      "h5test = h5py.File('tdouble.h5', 'r+')"
     ],
     "language": "python",
     "metadata": {},
     "outputs": [],
     "prompt_number": 51
    },
    {
     "cell_type": "code",
     "collapsed": false,
     "input": [
      "entry_root = h5test['entry']\n",
      "instrument_root = entry_root['instrument']"
     ],
     "language": "python",
     "metadata": {},
     "outputs": [],
     "prompt_number": 52
    },
    {
     "cell_type": "code",
     "collapsed": false,
     "input": [
      "# double the events\n",
      "num_added_events = 0\n",
      "for bank_name in instrument_root:\n",
      "    if bank_name.count('bank') == 0:\n",
      "        continue\n",
      "    bank_number = str(bank_name).split('bank')[1]\n",
      "    if bank_number.isdigit() is False:\n",
      "        continue\n",
      "    bank_now = instrument_root[bank_name]\n",
      "    event_id = bank_now['event_id']\n",
      "    event_index = bank_now['event_index']  \n",
      "    event_time_offset = bank_now['event_time_offset']\n",
      "    event_time_zero = bank_now['event_time_zero']\n",
      "    total_counts = bank_now['total_counts']\n",
      "    if total_counts[0] < 10:\n",
      "        print ('{} is skipped.  Total counts = {}'.format(bank_name, total_counts[0]))\n",
      "        continue\n",
      "\n",
      "    \n",
      "    # add events\n",
      "    num_events_i = event_id.shape[0]\n",
      "    event_id.resize((num_events_i*2,))\n",
      "    event_time_offset.resize((num_events_i*2,))\n",
      "    print (num_events_i)\n",
      "    for index in range(num_events_i):\n",
      "        event_id[index+num_events_i] = event_id[index]\n",
      "        event_time_offset[index+num_events_i] = event_time_offset[index] + 100.\n",
      "    \n",
      "    event_index *= 2\n",
      "    # for index in range():\n",
      "    #    event_index[index] = 2*event_index[index]\n",
      "    num_added_events += num_events_i\n",
      "# END-FOR\n",
      "\n",
      "print ('Added {} events'.format(num_added_events))"
     ],
     "language": "python",
     "metadata": {},
     "outputs": []
    },
    {
     "cell_type": "code",
     "collapsed": false,
     "input": [
      "h5test.close()"
     ],
     "language": "python",
     "metadata": {},
     "outputs": []
    }
   ],
   "metadata": {}
  }
 ]
}